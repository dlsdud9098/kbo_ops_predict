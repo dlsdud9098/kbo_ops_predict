{
 "cells": [
  {
   "cell_type": "code",
   "execution_count": null,
   "metadata": {},
   "outputs": [],
   "source": [
    "import pandas as pd\n",
    "import matplotlib.pyplot as plt\n",
    "import matplotlib\n",
    "import matplotlib.font_manager as fm\n",
    "import seaborn as sns\n",
    "import pandas as pd\n",
    "from IPython.display import display\n",
    "\n",
    "\n",
    "pd.options.display.max_columns = None\n",
    "%matplotlib inline\n",
    "\n",
    "# 한글 폰트\n",
    "plt.rcParams['font.family'] = 'NanumGothic'\n",
    "# 마이너스 깨짐 방지\n",
    "matplotlib.rcParams['axes.unicode_minus'] = False\n",
    "\n",
    "# 나눔 폰트 경로 설정\n",
    "font_path = '/usr/share/fonts/truetype/nanum/NanumGothic.ttf'  # 나눔 고딕의 경로\n",
    "font_prop = fm.FontProperties(fname=font_path).get_name()\n",
    "\n",
    "# 한글 폰트 설정\n",
    "matplotlib.rcParams['font.family'] = font_prop\n",
    "\n",
    "# 전역 팔레트 설정 (예: 'Set2' 팔레트 사용)\n",
    "sns.set_palette('Set2')\n",
    "sns_color = sns.color_palette('pastel')[0:5]"
   ]
  },
  {
   "cell_type": "code",
   "execution_count": null,
   "metadata": {},
   "outputs": [],
   "source": [
    "# 데이터 불러오기\n"
   ]
  }
 ],
 "metadata": {
  "kernelspec": {
   "display_name": "kbo_ops_predict_venv",
   "language": "python",
   "name": "python3"
  },
  "language_info": {
   "codemirror_mode": {
    "name": "ipython",
    "version": 3
   },
   "file_extension": ".py",
   "mimetype": "text/x-python",
   "name": "python",
   "nbconvert_exporter": "python",
   "pygments_lexer": "ipython3",
   "version": "3.10.13"
  }
 },
 "nbformat": 4,
 "nbformat_minor": 2
}
