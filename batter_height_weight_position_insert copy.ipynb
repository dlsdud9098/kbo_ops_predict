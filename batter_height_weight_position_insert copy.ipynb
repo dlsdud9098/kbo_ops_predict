{
 "cells": [
  {
   "cell_type": "markdown",
   "metadata": {},
   "source": [
    "### batter_height_weight_position_insert"
   ]
  },
  {
   "cell_type": "code",
   "execution_count": null,
   "metadata": {
    "vscode": {
     "languageId": "plaintext"
    }
   },
   "outputs": [],
   "source": [
    "import requests\n",
    "from bs4 import BeautifulSoup\n",
    "from selenium import webdriver\n",
    "from selenium.webdriver.chrome.service import Service\n",
    "from webdriver_manager.chrome import ChromeDriverManager\n",
    "from selenium.webdriver.chrome.options import Options\n",
    "from selenium.webdriver.common.keys import Keys\n",
    "from selenium.webdriver.common.by import By\n",
    "import time\n",
    "from selenium.webdriver.support.ui import WebDriverWait\n",
    "from selenium.webdriver.support import expected_conditions as EC\n",
    "from selenium.common.exceptions import StaleElementReferenceException\n",
    "\n",
    "# 키와 몸무게가 있지 않은 선수 목록\n",
    "print(sorted(set(regular_season[regular_season['height/weight'].isnull()]['batter_name'])))\n",
    "\n",
    "# 선수 목록\n",
    "batter_height_weight_position = {\n",
    "    '강병식': '(우투좌타)',\n",
    "    '강봉규': '',\n",
    "    '강정호': '',\n",
    "    '고도현': '',\n",
    "    '고동진': '',\n",
    "    '고메즈': '',\n",
    "    '고영민': '',\n",
    "    '권용관': '',\n",
    "    '김경모': '',\n",
    "    '김경언': '',\n",
    "    '김광연': '',\n",
    "    '김대륙': '',\n",
    "    '김동주': '',\n",
    "    '김연훈': '',\n",
    "    '김원석': '',\n",
    "    '김원섭': '',\n",
    "    '김종찬': '',\n",
    "    '김종호': '',\n",
    "    '나바로': '',\n",
    "    '나성용': '',\n",
    "    '대니돈': '',\n",
    "    '로메로': '',\n",
    "    '로사리오': '',\n",
    "    '로티노': '',\n",
    "    '마낙길': '',\n",
    "    '모상기': '',\n",
    "    '문우람': '',\n",
    "    '박계현': '',\n",
    "    '박기남': '',\n",
    "    '박노민': '',\n",
    "    '박상규': '',\n",
    "    '박용근': '',\n",
    "    '박재상': '',\n",
    "    '박재홍': '',\n",
    "    '박준서': '',\n",
    "    '박진만': '',\n",
    "    '박진원': '',\n",
    "    '백승룡': '',\n",
    "    '성의준': '',\n",
    "    '손용석': '',\n",
    "    '송지만': '',\n",
    "    '스나이더': '',\n",
    "    '신경현': '',\n",
    "    '신명철': '',\n",
    "    '신현철': '',\n",
    "    '안치용': '',\n",
    "    '알드리지': '',\n",
    "    '양영동': '',\n",
    "    '연경흠': '',\n",
    "    '오재필': '',\n",
    "    '용덕한': '',\n",
    "    '우동균': '',\n",
    "    '유선정': '',\n",
    "    '유재혁': '',\n",
    "    '윤완주': '',\n",
    "    '윤요섭': '',\n",
    "    '이명환': '',\n",
    "    '이민재': '',\n",
    "    '이승재': '',\n",
    "    '이양기': '',\n",
    "    '이여상': '',\n",
    "    '이우민': '',\n",
    "    '이인구': '',\n",
    "    '이정식': '',\n",
    "    '이종범': '',\n",
    "    '이종환': '',\n",
    "    '이태원': '',\n",
    "    '이현곤': '',\n",
    "    '이홍구': '',\n",
    "    '이희근': '',\n",
    "    '임재철': '',\n",
    "    '장성호': '',\n",
    "    '전현태': '',\n",
    "    '정보명': '',\n",
    "    '정상교': '',\n",
    "    '정수성': '',\n",
    "    '정현석': '',\n",
    "    '정형식': '',\n",
    "    '조성환': '',\n",
    "    '조영훈': '',\n",
    "    '조인성': '',\n",
    "    '조중근': '',\n",
    "    '지재옥': '',\n",
    "    '진갑용': '',\n",
    "    '차일목': '',\n",
    "    '채상병': '',\n",
    "    '최경철': '',\n",
    "    '최동수': '',\n",
    "    '최민구': '',\n",
    "    '최선호': '',\n",
    "    '최훈락': '',\n",
    "    '칸투': '',\n",
    "    '테임즈': '',\n",
    "    '피에': '',\n",
    "    '한상훈': '',\n",
    "    '한윤섭': '',\n",
    "    '현재윤': '',\n",
    "    '홍성흔': '',\n",
    "    '황목치승': '',\n",
    "    '황선일': '',\n",
    "    '황정립': ''\n",
    "}\n"
   ]
  },
  {
   "cell_type": "code",
   "execution_count": null,
   "metadata": {
    "vscode": {
     "languageId": "plaintext"
    }
   },
   "outputs": [],
   "source": [
    "# Chrome 옵션 설정\n",
    "chrome_options = Options()\n",
    "# chrome_options.add_argument(\"--headless\")  # 백그라운드 모드 실행 (필요시 주석 처리)\n",
    "\n",
    "# Service 객체 생성\n",
    "service = Service(ChromeDriverManager().install())\n",
    "\n",
    "# 크롬 웹드라이버 실행\n",
    "driver = webdriver.Chrome(service=service, options=chrome_options)\n",
    "wait = WebDriverWait(driver, 10)\n",
    "# 웹 페이지 로드\n",
    "driver.get('https://www.koreabaseball.com/Player/Search.aspx')\n",
    "\n",
    "height_weight_position_list = []\n",
    "for name in batter_height_weight_position.keys():\n",
    "    \n",
    "    batter_name_input = driver.find_element(By.CSS_SELECTOR, '#cphContents_cphContents_cphContents_txtSearchPlayerName')\n",
    "    try:\n",
    "        batter_name_input.clear()\n",
    "    except StaleElementReferenceException:\n",
    "        batter_name_input = driver.find_element(By.CSS_SELECTOR, '#cphContents_cphContents_cphContents_txtSearchPlayerName')\n",
    "        batter_name_input.clear()\n",
    "    batter_name_input.send_keys(name)\n",
    "    driver.find_element(By.CSS_SELECTOR, '#cphContents_cphContents_cphContents_btnSearch').click()\n",
    "\n",
    "    time.sleep(.5)\n",
    "    height_weight = wait.until(EC.presence_of_element_located((By.CSS_SELECTOR, '#cphContents_cphContents_cphContents_udpRecord > div.inquiry > table > tbody > tr > td:nth-child(6)'))).text.replace(', ','/')\n",
    "    position = driver.find_element(By.CSS_SELECTOR, '#cphContents_cphContents_cphContents_udpRecord > div.inquiry > table > tbody > tr > td:nth-child(4)').text\n",
    "\n",
    "    \n",
    "    height_weight_position_list.append(height_weight+'/'+position)\n",
    "driver.quit()"
   ]
  },
  {
   "cell_type": "code",
   "execution_count": null,
   "metadata": {
    "vscode": {
     "languageId": "plaintext"
    }
   },
   "outputs": [],
   "source": [
    "'''\n",
    "위키백과에서 투타를 가져오는데, 몇 가지 동명이인이 있어 그 부분은 넘어갔다.\n",
    "넣지 못한 부분은 일일이 넣을 예정이다.\n",
    "'''\n",
    "\n",
    "for idx, name in enumerate(batter_height_weight_position.keys()):\n",
    "    rq = requests.get(f'https://ko.wikipedia.org/wiki/{name}')\n",
    "    time.sleep(.5)\n",
    "    # time.sleep(.2)\n",
    "    soup = BeautifulSoup(rq.text, 'html.parser')\n",
    "    try:\n",
    "        handle = soup.find_all('table')[0]\n",
    "        \n",
    "        df = pd.read_html(str(handle))[0]\n",
    "        if len(df.columns) > 2:\n",
    "            df = df.drop(df.columns[2], axis=1)\n",
    "        # display(df)\n",
    "        df = df.T\n",
    "\n",
    "        df.columns = df.loc[0]\n",
    "        df = df.drop(0, axis=0)\n",
    "        try:\n",
    "            hand = str(df['투구·타석'].values[0])\n",
    "        except:\n",
    "            hand = ''\n",
    "    except:\n",
    "        hand = ''\n",
    "\n",
    "    \n",
    "    height_weight_position_list[idx] = height_weight_position_list[idx]+'('+hand+')'"
   ]
  },
  {
   "cell_type": "code",
   "execution_count": null,
   "metadata": {
    "vscode": {
     "languageId": "plaintext"
    }
   },
   "outputs": [],
   "source": [
    "for idx, name in enumerate(batter_height_weight_position.keys()):\n",
    "    batter_height_weight_position[name] = height_weight_position_list[idx]\n",
    "batter_height_weight_position"
   ]
  },
  {
   "cell_type": "code",
   "execution_count": null,
   "metadata": {
    "vscode": {
     "languageId": "plaintext"
    }
   },
   "outputs": [],
   "source": [
    "import json\n",
    "\n",
    "with open('output_data.json', 'w', encoding='utf-8') as json_file:\n",
    "    json.dump(batter_height_weight_position, json_file, ensure_ascii=False, indent=4)"
   ]
  },
  {
   "cell_type": "code",
   "execution_count": null,
   "metadata": {
    "vscode": {
     "languageId": "plaintext"
    }
   },
   "outputs": [],
   "source": [
    "# JSON 파일을 읽어들여 파이썬 객체로 변환\n",
    "with open('output_data.json', 'r', encoding='utf-8') as json_file:\n",
    "    data = json.load(json_file)\n",
    "print(type(data))\n",
    "data"
   ]
  },
  {
   "cell_type": "code",
   "execution_count": null,
   "metadata": {
    "vscode": {
     "languageId": "plaintext"
    }
   },
   "outputs": [],
   "source": [
    "'''\n",
    "위에서 만든 데이터를 적용해서 모두 채웠다.\n",
    "'''\n",
    "\n",
    "def insert_batter_info(row, batter_height_weight_position):\n",
    "    name = row['batter_name']\n",
    "    if name in batter_height_weight_position:\n",
    "        info = batter_height_weight_position[name]\n",
    "        height_weight, position = info.split('/')[0] + '/' + info.split('/')[1], info.split('/')[2]\n",
    "        \n",
    "        row['height/weight'] = height_weight\n",
    "        row['position'] = position\n",
    "\n",
    "        # display(row[['height/weight', 'position']])\n",
    "        \n",
    "    return row\n",
    "\n",
    "# apply를 사용하여 각 행에 대해 업데이트 적용\n",
    "regular_season = regular_season.apply(insert_batter_info, axis=1, batter_height_weight_position=data)\n",
    "display(regular_season[regular_season['batter_name'] == '유재혁'][['batter_name', 'height/weight', 'position']])\n",
    "\n",
    "regular_season.isna().sum()"
   ]
  },
  {
   "cell_type": "code",
   "execution_count": null,
   "metadata": {
    "vscode": {
     "languageId": "plaintext"
    }
   },
   "outputs": [],
   "source": []
  }
 ],
 "metadata": {
  "language_info": {
   "name": "python"
  }
 },
 "nbformat": 4,
 "nbformat_minor": 2
}
